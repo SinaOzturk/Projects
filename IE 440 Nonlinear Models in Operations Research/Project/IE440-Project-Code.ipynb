{
 "cells": [
  {
   "cell_type": "markdown",
   "id": "5f54e34e",
   "metadata": {},
   "source": [
    "# IE 440 Final Neural Networks Question\n",
    "\n",
    "## Yusuf Sina Öztürk - 2017402153"
   ]
  },
  {
   "cell_type": "code",
   "execution_count": 1,
   "id": "8a33ce43",
   "metadata": {},
   "outputs": [],
   "source": [
    "# Importing necessary libraries\n",
    "import timeit\n",
    "import pandas as pd\n",
    "import numpy as np\n",
    "import seaborn as sns \n",
    "import matplotlib.pyplot as plt\n",
    "import csv\n",
    "sns.set(rc={'figure.figsize':(8,6)})"
   ]
  },
  {
   "cell_type": "markdown",
   "id": "20566be8",
   "metadata": {},
   "source": [
    "### Reading Data \n",
    "First of all, we need to read training and test data."
   ]
  },
  {
   "cell_type": "code",
   "execution_count": 15,
   "id": "c1e10753",
   "metadata": {},
   "outputs": [
    {
     "data": {
      "text/html": [
       "<div>\n",
       "<style scoped>\n",
       "    .dataframe tbody tr th:only-of-type {\n",
       "        vertical-align: middle;\n",
       "    }\n",
       "\n",
       "    .dataframe tbody tr th {\n",
       "        vertical-align: top;\n",
       "    }\n",
       "\n",
       "    .dataframe thead th {\n",
       "        text-align: right;\n",
       "    }\n",
       "</style>\n",
       "<table border=\"1\" class=\"dataframe\">\n",
       "  <thead>\n",
       "    <tr style=\"text-align: right;\">\n",
       "      <th></th>\n",
       "      <th>0</th>\n",
       "      <th>1</th>\n",
       "    </tr>\n",
       "  </thead>\n",
       "  <tbody>\n",
       "    <tr>\n",
       "      <th>0</th>\n",
       "      <td>202.244533</td>\n",
       "      <td>205.911997</td>\n",
       "    </tr>\n",
       "    <tr>\n",
       "      <th>1</th>\n",
       "      <td>246.086103</td>\n",
       "      <td>131.740057</td>\n",
       "    </tr>\n",
       "    <tr>\n",
       "      <th>2</th>\n",
       "      <td>217.733948</td>\n",
       "      <td>154.888272</td>\n",
       "    </tr>\n",
       "    <tr>\n",
       "      <th>3</th>\n",
       "      <td>207.765176</td>\n",
       "      <td>209.428655</td>\n",
       "    </tr>\n",
       "    <tr>\n",
       "      <th>4</th>\n",
       "      <td>247.532442</td>\n",
       "      <td>203.268001</td>\n",
       "    </tr>\n",
       "  </tbody>\n",
       "</table>\n",
       "</div>"
      ],
      "text/plain": [
       "            0           1\n",
       "0  202.244533  205.911997\n",
       "1  246.086103  131.740057\n",
       "2  217.733948  154.888272\n",
       "3  207.765176  209.428655\n",
       "4  247.532442  203.268001"
      ]
     },
     "execution_count": 15,
     "metadata": {},
     "output_type": "execute_result"
    }
   ],
   "source": [
    "tra_df = pd.read_csv(\"IE440Final21Training.txt\", sep = \" \", header = None)\n",
    "tra_df.head()"
   ]
  },
  {
   "cell_type": "code",
   "execution_count": 16,
   "id": "e24890cc",
   "metadata": {
    "scrolled": true
   },
   "outputs": [
    {
     "data": {
      "text/html": [
       "<div>\n",
       "<style scoped>\n",
       "    .dataframe tbody tr th:only-of-type {\n",
       "        vertical-align: middle;\n",
       "    }\n",
       "\n",
       "    .dataframe tbody tr th {\n",
       "        vertical-align: top;\n",
       "    }\n",
       "\n",
       "    .dataframe thead th {\n",
       "        text-align: right;\n",
       "    }\n",
       "</style>\n",
       "<table border=\"1\" class=\"dataframe\">\n",
       "  <thead>\n",
       "    <tr style=\"text-align: right;\">\n",
       "      <th></th>\n",
       "      <th>0</th>\n",
       "      <th>1</th>\n",
       "    </tr>\n",
       "  </thead>\n",
       "  <tbody>\n",
       "    <tr>\n",
       "      <th>0</th>\n",
       "      <td>205.239351</td>\n",
       "      <td>230.537236</td>\n",
       "    </tr>\n",
       "    <tr>\n",
       "      <th>1</th>\n",
       "      <td>173.782068</td>\n",
       "      <td>192.352956</td>\n",
       "    </tr>\n",
       "    <tr>\n",
       "      <th>2</th>\n",
       "      <td>176.423489</td>\n",
       "      <td>189.842669</td>\n",
       "    </tr>\n",
       "    <tr>\n",
       "      <th>3</th>\n",
       "      <td>220.181151</td>\n",
       "      <td>148.231021</td>\n",
       "    </tr>\n",
       "    <tr>\n",
       "      <th>4</th>\n",
       "      <td>171.905183</td>\n",
       "      <td>224.302252</td>\n",
       "    </tr>\n",
       "  </tbody>\n",
       "</table>\n",
       "</div>"
      ],
      "text/plain": [
       "            0           1\n",
       "0  205.239351  230.537236\n",
       "1  173.782068  192.352956\n",
       "2  176.423489  189.842669\n",
       "3  220.181151  148.231021\n",
       "4  171.905183  224.302252"
      ]
     },
     "execution_count": 16,
     "metadata": {},
     "output_type": "execute_result"
    }
   ],
   "source": [
    "test_df = pd.read_csv(\"IE440Final21Test.txt\", sep = \" \", header = None)\n",
    "test_df.head()"
   ]
  },
  {
   "cell_type": "code",
   "execution_count": 17,
   "id": "ed099048",
   "metadata": {},
   "outputs": [],
   "source": [
    "x = tra_df\n",
    "x = x.to_numpy()\n",
    "test = test_df\n",
    "test = test.to_numpy()"
   ]
  },
  {
   "cell_type": "markdown",
   "id": "01259bf1",
   "metadata": {},
   "source": [
    "### Question 1 (Least Square Method)\n",
    "\n",
    "In order to solve the first question, I am going to use DFP (Davidon - Fletcher - Powell) Method.\n",
    "\n",
    "First, I need to define functions, gradients of the functions, exact line search algorithm and euclidian distance calculator function in order to use as stopping condition."
   ]
  },
  {
   "cell_type": "code",
   "execution_count": 2,
   "id": "7dbaab4b",
   "metadata": {},
   "outputs": [],
   "source": [
    "#defining the first function\n",
    "\n",
    "def f1(w1):\n",
    "    return (np.sum((x[1] - w1[0] - w1[1]*x[0])**2))"
   ]
  },
  {
   "cell_type": "code",
   "execution_count": 3,
   "id": "54dd2870",
   "metadata": {},
   "outputs": [],
   "source": [
    "# defining gradient of the first function with respect to w0 and w1 respectively\n",
    "\n",
    "def grad_f1(w1):\n",
    "    grad = np.zeros(2)\n",
    "    grad[0] = -2 * np.sum( x[:,1] - w1[0] - w1[1] * x[:,0])\n",
    "    grad[1] = -2 * np.sum( x[:,0] * ( x[:,1] - w1[0] - w1[1]*x[:,0] ))\n",
    "    return grad"
   ]
  },
  {
   "cell_type": "code",
   "execution_count": 4,
   "id": "b9ee7af7",
   "metadata": {},
   "outputs": [],
   "source": [
    "#defining the second function\n",
    "\n",
    "def f2(w2):\n",
    "    return (np.sum((x[:,1] - w2[0] - w2[1]*x[:,0] - w2[2] * (x[:,0])**2 - w2[3] * (x[:,0])**3 )**2))"
   ]
  },
  {
   "cell_type": "code",
   "execution_count": 5,
   "id": "29008e8d",
   "metadata": {},
   "outputs": [],
   "source": [
    "def grad_f2(w2):\n",
    "    grad = np.zeros(4)\n",
    "    grad[0] = -2 * np.sum( x[:,1] - w2[0] - w2[1]*x[:,0] - w2[2] * (x[:,0])**2 - w2[3] * (x[:,0])**3 )\n",
    "    grad[1] = -2 * np.sum( x[:,0] * ( x[:,1] - w2[0] - w2[1]*x[:,0] - w2[2] * (x[:,0])**2 - w2[3] * (x[:,0])**3 ))\n",
    "    grad[2] = -2 * np.sum( x[:,0]**2 * ( x[:,1] - w2[0] - w2[1]*x[:,0] - w2[2] * (x[:,0])**2 - w2[3] * (x[:,0])**3 ) )\n",
    "    grad[3] = -2 * np.sum( x[:,0]**3 * ( x[:,1] - w2[0] - w2[1]*x[:,0] - w2[2] * (x[:,0])**2 - w2[3] * (x[:,0])**3 ) )\n",
    "    return grad"
   ]
  },
  {
   "cell_type": "code",
   "execution_count": 6,
   "id": "697244a7",
   "metadata": {},
   "outputs": [],
   "source": [
    "def euc_distance(a,b):\n",
    "    return np.sqrt((a[0]- b[0])**2 + (a[1]-b[1])**2)"
   ]
  },
  {
   "cell_type": "code",
   "execution_count": 7,
   "id": "6ce6c0c4",
   "metadata": {},
   "outputs": [],
   "source": [
    "# Exact line search algorithm to decide on the steplength \n",
    "\n",
    "#f : function; \n",
    "#d : direction; \n",
    "#x : kth value of x;\n",
    "#a and b : interval to search for best alpha;\n",
    "#eps : step length for incrementian \n",
    "\n",
    "def exact_line(f,d,x,a,b,eps):\n",
    "    min_val = 10000000000000000\n",
    "    best_alpha = 0\n",
    "    interval = np.arange(a,b,eps)\n",
    "    for alpha in interval:\n",
    "        if(f(x+(alpha*np.array(d)))<= min_val):\n",
    "            min_val = f(x+(alpha*np.array(d)))\n",
    "            best_alpha = alpha\n",
    "    return best_alpha"
   ]
  },
  {
   "cell_type": "markdown",
   "id": "7a5cf84c",
   "metadata": {},
   "source": [
    "### DFP Method\n",
    "\n",
    "To solve the first part of the question, I am going to use DFP method as we used in previous homeworks."
   ]
  },
  {
   "cell_type": "code",
   "execution_count": 25,
   "id": "cbac7678",
   "metadata": {},
   "outputs": [],
   "source": [
    "def dfp_method(eps1,f,g,a,b,eps2,w0):\n",
    "    w = np.zeros((100000,2))\n",
    "    H = np.identity(2)               \n",
    "    k = 0\n",
    "    w[0] = w0 # initial points \n",
    "    stop = True\n",
    "    while(stop):\n",
    "        w_vals.append(w[k])\n",
    "        direction = -1 *  np.dot(H, np.transpose( g(w[k])))\n",
    "        directions.append(direction)\n",
    "        if(euc_distance(w[k],w[k-1]) <= eps1): # euclidean distance as stopping condition \n",
    "            stop = False\n",
    "            alpha_vals.append(\"-\")\n",
    "            w_next_vals.append(\"-\")\n",
    "        else:\n",
    "            alpha = exact_line(f,direction,w[k],a,b,eps2)\n",
    "            alpha_vals.append(alpha)     \n",
    "            w[k+1] = w[k] + alpha * direction\n",
    "            w_next_vals.append(w[k+1])\n",
    "            p = w[k+1] - w[k]\n",
    "            q = np.transpose(g(w[k+1])) - np.transpose(g(w[k]))\n",
    "            A = (np.dot(p,np.transpose(p)))/(np.dot(np.transpose(p),q))\n",
    "            B = -np.dot(np.dot(H,q),np.dot(np.transpose(q),H))/(np.dot(np.dot(np.transpose(q),H),q))\n",
    "            H = H + A + B\n",
    "            k = k+1\n",
    "            print(\"w\",w[k])\n",
    "        \n",
    "    return w[k]  "
   ]
  },
  {
   "cell_type": "markdown",
   "id": "ae9422ee",
   "metadata": {},
   "source": [
    "Running the algorithm for the first function"
   ]
  },
  {
   "cell_type": "code",
   "execution_count": 26,
   "id": "350243ee",
   "metadata": {
    "scrolled": false
   },
   "outputs": [
    {
     "name": "stdout",
     "output_type": "stream",
     "text": [
      "w [110.00000105   1.00061459]\n",
      "w [109.99938506   1.00061353]\n",
      "w [110.14894951   1.15079291]\n",
      "w [109.91620037   0.9190007 ]\n",
      "w [110.02056487   1.02379427]\n",
      "w [109.85815303   0.86205014]\n",
      "w [109.93097533   0.93517181]\n",
      "w [109.81764806   0.82231042]\n",
      "w [109.86845968   0.87333091]\n",
      "w [109.78938486   0.79458115]\n",
      "w [109.82483752   0.83017953]\n",
      "w [109.7696642    0.77523299]\n",
      "w [109.79439976   0.80007021]\n",
      "w [109.75590452   0.76173319]\n",
      "w [109.77316218   0.77906175]\n",
      "w [109.74630429   0.75231423]\n",
      "w [109.75834434   0.76440375]\n",
      "w [109.73960632   0.74574272]\n",
      "w [109.748006     0.75417689]\n",
      "w [109.73493339   0.74115798]\n",
      "w [109.7407932    0.74704184]\n",
      "w [109.73167335   0.73795944]\n",
      "w [109.73576116   0.74206403]\n",
      "w [109.72939908   0.73572806]\n",
      "w [109.73225066   0.73859133]\n",
      "w [109.72781255   0.73417143]\n",
      "w [109.7298017    0.73616871]\n",
      "w [109.72670583   0.73308554]\n",
      "w [109.72809334   0.73447871]\n",
      "w [109.72593385   0.73232806]\n",
      "w [109.72690165   0.73329981]\n",
      "w [109.72539537   0.73179969]\n",
      "w [109.72607041   0.73247747]\n",
      "w [109.72501979   0.73143114]\n",
      "w [109.72549061   0.73190385]\n",
      "w [109.72475785   0.73117407]\n",
      "w [109.72508621   0.73150375]\n",
      "w [109.72457516   0.73099477]\n",
      "w [109.72480417   0.73122468]\n",
      "w [109.72444777   0.73086971]\n",
      "w [109.72460747   0.73103004]\n",
      "w [109.72435894   0.7307825 ]\n",
      "w [109.72447031   0.73089429]\n",
      "w [109.72429701   0.73072167]\n",
      "w [109.72437467   0.73079961]\n",
      "w [109.72425384   0.73067925]\n",
      "w [109.72430798   0.73073358]\n"
     ]
    }
   ],
   "source": [
    "alpha_vals= [] # array to keep alpha values at every iteration\n",
    "w_vals = []  # array to keep x values at every iteration\n",
    "w_next_vals = []  # array to keep x(k+1) values at every iteration\n",
    "directions= []  # array to keep direction values at every iteration\n",
    "\n",
    "output = dfp_method(0.0001, f1,grad_f1,-20,20,0.0005, [110.00, 1.00])"
   ]
  },
  {
   "cell_type": "code",
   "execution_count": 28,
   "id": "30bb8e61",
   "metadata": {},
   "outputs": [
    {
     "data": {
      "text/plain": [
       "array([109.72430798,   0.73073358])"
      ]
     },
     "execution_count": 28,
     "metadata": {},
     "output_type": "execute_result"
    }
   ],
   "source": [
    "w_values = w_vals[len(w_vals)-1]\n",
    "w_values"
   ]
  },
  {
   "cell_type": "code",
   "execution_count": 40,
   "id": "51d8af2b",
   "metadata": {},
   "outputs": [
    {
     "data": {
      "text/plain": [
       "109.72430798446568"
      ]
     },
     "execution_count": 40,
     "metadata": {},
     "output_type": "execute_result"
    }
   ],
   "source": [
    "w_values[0]"
   ]
  },
  {
   "cell_type": "code",
   "execution_count": 54,
   "id": "d45bff71",
   "metadata": {},
   "outputs": [],
   "source": [
    "w0 = w_values[0]\n",
    "w1 = w_values[1]"
   ]
  },
  {
   "cell_type": "code",
   "execution_count": 55,
   "id": "1c1a26ed",
   "metadata": {},
   "outputs": [
    {
     "data": {
      "text/plain": [
       "109.72430798446568"
      ]
     },
     "execution_count": 55,
     "metadata": {},
     "output_type": "execute_result"
    }
   ],
   "source": [
    "w0"
   ]
  },
  {
   "cell_type": "markdown",
   "id": "6548fcd5",
   "metadata": {},
   "source": [
    "So our w values are:\n",
    "\n",
    "- w0 = 109.72430798 (intercept)\n",
    "- w1 = 0.73073358 (slope)"
   ]
  },
  {
   "cell_type": "code",
   "execution_count": 33,
   "id": "321fda6e",
   "metadata": {},
   "outputs": [],
   "source": [
    "x_values = x[:,0]\n",
    "y_values = x[:,1]"
   ]
  },
  {
   "cell_type": "markdown",
   "id": "3f829777",
   "metadata": {},
   "source": [
    "### Plotting the data and regression lines\n",
    "\n",
    "#### Training Data and Regression Line"
   ]
  },
  {
   "cell_type": "code",
   "execution_count": 56,
   "id": "77109693",
   "metadata": {
    "scrolled": false
   },
   "outputs": [
    {
     "data": {
      "text/plain": [
       "[<matplotlib.lines.Line2D at 0x266030c2c10>]"
      ]
     },
     "execution_count": 56,
     "metadata": {},
     "output_type": "execute_result"
    },
    {
     "data": {
      "image/png": "[encoded data removed]",
      "text/plain": [
       "<Figure size 576x432 with 1 Axes>"
      ]
     },
     "metadata": {},
     "output_type": "display_data"
    }
   ],
   "source": [
    "plt.plot(x_values,y_values, '.')\n",
    "plt.plot(x_values,w0 + w1 * x_values )"
   ]
  },
  {
   "cell_type": "markdown",
   "id": "ba5cfc97",
   "metadata": {},
   "source": [
    "#### Test Data and Regression Line"
   ]
  },
  {
   "cell_type": "code",
   "execution_count": 62,
   "id": "d006f445",
   "metadata": {},
   "outputs": [],
   "source": [
    "x_test_values = test[:,0]\n",
    "y_test_values = test[:,1]"
   ]
  },
  {
   "cell_type": "code",
   "execution_count": 65,
   "id": "aa562d3d",
   "metadata": {},
   "outputs": [
    {
     "data": {
      "text/plain": [
       "[<matplotlib.lines.Line2D at 0x266030bfeb0>]"
      ]
     },
     "execution_count": 65,
     "metadata": {},
     "output_type": "execute_result"
    },
    {
     "data": {
      "image/png": "[encoded data removed]",
      "text/plain": [
       "<Figure size 576x432 with 1 Axes>"
      ]
     },
     "metadata": {},
     "output_type": "display_data"
    }
   ],
   "source": [
    "plt.plot(x_test_values,y_test_values, '.')\n",
    "plt.plot(x_test_values,w0 + w1 * x_test_values )"
   ]
  },
  {
   "cell_type": "markdown",
   "id": "9fc38260",
   "metadata": {},
   "source": [
    "### Reporting the Error Values\n",
    "\n",
    "#### Training SSE"
   ]
  },
  {
   "cell_type": "code",
   "execution_count": 80,
   "id": "8c8a3991",
   "metadata": {},
   "outputs": [],
   "source": [
    "error_matrix = np.zeros((4,3)) # to report at the end"
   ]
  },
  {
   "cell_type": "code",
   "execution_count": 81,
   "id": "d0c46a1d",
   "metadata": {},
   "outputs": [],
   "source": [
    "sse = 0\n",
    "for i in range(len(x_values)):\n",
    "    sse = sse + (y_values[i] - (x_values[i]*w1 + w0))**2"
   ]
  },
  {
   "cell_type": "markdown",
   "id": "c8c3d35e",
   "metadata": {},
   "source": [
    "For the first linear regression function, we have training SSE:"
   ]
  },
  {
   "cell_type": "code",
   "execution_count": 82,
   "id": "436ec613",
   "metadata": {
    "scrolled": true
   },
   "outputs": [
    {
     "data": {
      "text/plain": [
       "3835811.593155594"
      ]
     },
     "execution_count": 82,
     "metadata": {},
     "output_type": "execute_result"
    }
   ],
   "source": [
    "sse"
   ]
  },
  {
   "cell_type": "code",
   "execution_count": 83,
   "id": "521d43bf",
   "metadata": {},
   "outputs": [],
   "source": [
    "error_matrix[0,0] = sse"
   ]
  },
  {
   "cell_type": "markdown",
   "id": "f30774bf",
   "metadata": {},
   "source": [
    "#### Test MSE"
   ]
  },
  {
   "cell_type": "code",
   "execution_count": 115,
   "id": "5b110795",
   "metadata": {},
   "outputs": [],
   "source": [
    "test_mse = 0\n",
    "for i in range(len(x_test_values)):\n",
    "    test_mse = test_mse + (y_test_values[i] - (x_test_values[i]*w1 + w0))**2\n",
    "test_mse = test_mse / len(x_test_values)"
   ]
  },
  {
   "cell_type": "markdown",
   "id": "ccda9788",
   "metadata": {},
   "source": [
    "For the first linear regression function, we have test MSE:"
   ]
  },
  {
   "cell_type": "code",
   "execution_count": 116,
   "id": "ebd06fae",
   "metadata": {
    "scrolled": true
   },
   "outputs": [
    {
     "data": {
      "text/plain": [
       "1950467.5356964446"
      ]
     },
     "execution_count": 116,
     "metadata": {},
     "output_type": "execute_result"
    }
   ],
   "source": [
    "test_mse"
   ]
  },
  {
   "cell_type": "code",
   "execution_count": 117,
   "id": "49e27508",
   "metadata": {},
   "outputs": [],
   "source": [
    "error_matrix[0,1] = test_mse"
   ]
  },
  {
   "cell_type": "markdown",
   "id": "f678b0be",
   "metadata": {},
   "source": [
    "#### s^2 for Test MSE"
   ]
  },
  {
   "cell_type": "code",
   "execution_count": 128,
   "id": "bf7d8074",
   "metadata": {},
   "outputs": [],
   "source": [
    "s_square = 0 \n",
    "for i in range(len(x_test_values)):\n",
    "    s_square = s_square + (test_mse - (y_test_values[i] - (x_test_values[i]*w1 + w0))**2)**2\n",
    "    \n",
    "s_square = s_square / (len(x_test_values)-1)"
   ]
  },
  {
   "cell_type": "code",
   "execution_count": 119,
   "id": "589ebdf3",
   "metadata": {},
   "outputs": [
    {
     "data": {
      "text/plain": [
       "8564966170509.817"
      ]
     },
     "execution_count": 119,
     "metadata": {},
     "output_type": "execute_result"
    }
   ],
   "source": [
    "s_square"
   ]
  },
  {
   "cell_type": "code",
   "execution_count": 120,
   "id": "ff2e3afc",
   "metadata": {},
   "outputs": [],
   "source": [
    "error_matrix[0,2] = s_square"
   ]
  },
  {
   "cell_type": "markdown",
   "id": "38c25585",
   "metadata": {},
   "source": [
    "### Steepest Descent Method\n",
    "\n",
    "For the second part of the first question, I am going to use Steepest Descent Method to get the coefficients by using the Steepest Descent function that we used in previous homeworks."
   ]
  },
  {
   "cell_type": "code",
   "execution_count": 97,
   "id": "0460f0a7",
   "metadata": {},
   "outputs": [],
   "source": [
    "def steepest_descent(eps1,f,g,a,b,eps2,w0):\n",
    "    w = np.zeros((10000,4))\n",
    "    k = 0\n",
    "    w[0] = w0 # initial points \n",
    "    while(True):\n",
    "        w_vals.append(w[k])\n",
    "        direction = [0,0]\n",
    "        direction = -1 *  np.transpose( g(w[k])) / np.linalg.norm(g(w[k]))\n",
    "        directions.append(direction)\n",
    "        alpha = exact_line(f,direction,w[k],a,b,eps2)\n",
    "        alpha_vals.append(alpha)\n",
    "        w[k+1] = w[k] + alpha * direction\n",
    "        w_next_vals.append(w[k+1])\n",
    "        k = k+1\n",
    "        #print(\"w\",w[k])\n",
    "        if(np.linalg.norm(g(w[k]))<=eps1 or k == 999): # max iterations are set \n",
    "            break\n",
    "    return w[k]  "
   ]
  },
  {
   "cell_type": "code",
   "execution_count": 98,
   "id": "978d19ab",
   "metadata": {},
   "outputs": [],
   "source": [
    "alpha_vals = [] # array to keep alpha values at every iteration\n",
    "w_vals = []  # array to keep x values at every iteration\n",
    "w_next_vals = []  # array to keep x(k+1) values at every iteration\n",
    "directions = []  # array to keep direction values at every iteration"
   ]
  },
  {
   "cell_type": "code",
   "execution_count": 99,
   "id": "e773ed0f",
   "metadata": {},
   "outputs": [],
   "source": [
    "output = steepest_descent(0.25, f2,grad_f2,-10,10,0.0075, [-500.00, 5.00, 1.00, 0.001])"
   ]
  },
  {
   "cell_type": "code",
   "execution_count": 100,
   "id": "539d59df",
   "metadata": {},
   "outputs": [
    {
     "name": "stdout",
     "output_type": "stream",
     "text": [
      "[-5.e+02  5.e+00  1.e+00  1.e-03]\n",
      "[-5.00000000e+02  4.99999970e+00  9.99899647e-01  1.00010790e-03]\n",
      "[-5.00000000e+02  4.99999970e+00  9.99894371e-01 -3.99988932e-03]\n"
     ]
    }
   ],
   "source": [
    "for i in range (3):\n",
    "    print(w_vals[-i])"
   ]
  },
  {
   "cell_type": "code",
   "execution_count": 101,
   "id": "5887f503",
   "metadata": {},
   "outputs": [
    {
     "data": {
      "text/plain": [
       "array([-5.00000000e+02,  4.99999970e+00,  9.99899647e-01,  1.00010790e-03])"
      ]
     },
     "execution_count": 101,
     "metadata": {},
     "output_type": "execute_result"
    }
   ],
   "source": [
    "w_values = w_vals[len(w_vals)-1]\n",
    "w_values"
   ]
  },
  {
   "cell_type": "markdown",
   "id": "b88cb2ca",
   "metadata": {},
   "source": [
    "So our w values are:\n",
    "\n",
    "- w0 = -500 (intercept)\n",
    "- w1 = 4.99 (x)\n",
    "- w2 = 0.998\n",
    "- w3 = 0.001"
   ]
  },
  {
   "cell_type": "code",
   "execution_count": 107,
   "id": "86717e65",
   "metadata": {},
   "outputs": [],
   "source": [
    "w0 = w_values[0]\n",
    "w1 = w_values[1]\n",
    "w2 = w_values[2]\n",
    "w3 = w_values[3]"
   ]
  },
  {
   "cell_type": "markdown",
   "id": "77b372f7",
   "metadata": {},
   "source": [
    "### Plotting the data and regression lines for 1.b\n",
    "\n",
    "#### Training Data and Regression curve"
   ]
  },
  {
   "cell_type": "code",
   "execution_count": 108,
   "id": "36106a69",
   "metadata": {
    "scrolled": false
   },
   "outputs": [
    {
     "data": {
      "text/plain": [
       "[<matplotlib.lines.Line2D at 0x266043c8f70>]"
      ]
     },
     "execution_count": 108,
     "metadata": {},
     "output_type": "execute_result"
    },
    {
     "data": {
      "image/png": "[encoded data removed]",
      "text/plain": [
       "<Figure size 576x432 with 1 Axes>"
      ]
     },
     "metadata": {},
     "output_type": "display_data"
    }
   ],
   "source": [
    "plt.plot(x_values,y_values, '.')\n",
    "plt.plot(x_values,w0 + w1 * x_values + w2 * x_values**2 + w3 * x_values**3)"
   ]
  },
  {
   "cell_type": "markdown",
   "id": "9ac28f0a",
   "metadata": {},
   "source": [
    "### Reporting the Error Values for 1b\n",
    "\n",
    "#### Training SSE"
   ]
  },
  {
   "cell_type": "code",
   "execution_count": 122,
   "id": "b8b13693",
   "metadata": {},
   "outputs": [],
   "source": [
    "sse = 0\n",
    "for i in range(len(x_values)):\n",
    "    sse = sse + (y_values[i] - (x_values[i]**3 * w3 + x_values[i]**2 * w2 + x_values[i] * w1 + w0))**2"
   ]
  },
  {
   "cell_type": "markdown",
   "id": "8bbb5ffe",
   "metadata": {},
   "source": [
    "For the second linear regression function, we have training SSE:"
   ]
  },
  {
   "cell_type": "code",
   "execution_count": 123,
   "id": "e89fd8c5",
   "metadata": {},
   "outputs": [
    {
     "data": {
      "text/plain": [
       "55723098592043.734"
      ]
     },
     "execution_count": 123,
     "metadata": {},
     "output_type": "execute_result"
    }
   ],
   "source": [
    "sse"
   ]
  },
  {
   "cell_type": "code",
   "execution_count": 136,
   "id": "d829c25c",
   "metadata": {},
   "outputs": [],
   "source": [
    "error_matrix[1,0] = sse"
   ]
  },
  {
   "cell_type": "markdown",
   "id": "5f374590",
   "metadata": {},
   "source": [
    "#### Test MSE"
   ]
  },
  {
   "cell_type": "code",
   "execution_count": 124,
   "id": "0d8fb3f9",
   "metadata": {},
   "outputs": [],
   "source": [
    "test_mse = 0\n",
    "for i in range(len(x_test_values)):\n",
    "    test_mse = test_mse + (y_test_values[i] - (x_values[i]**3 * w3 + x_values[i]**2 * w2 + x_values[i] * w1 + w0)**2)**2\n",
    "    \n",
    "test_mse = test_mse / len(x_test_values)"
   ]
  },
  {
   "cell_type": "markdown",
   "id": "7d98c403",
   "metadata": {},
   "source": [
    "For the second linear regression function, we have test MSE:"
   ]
  },
  {
   "cell_type": "code",
   "execution_count": 125,
   "id": "607d231b",
   "metadata": {},
   "outputs": [
    {
     "data": {
      "text/plain": [
       "1.0067236964134857e+19"
      ]
     },
     "execution_count": 125,
     "metadata": {},
     "output_type": "execute_result"
    }
   ],
   "source": [
    "test_mse"
   ]
  },
  {
   "cell_type": "code",
   "execution_count": 138,
   "id": "cf906700",
   "metadata": {},
   "outputs": [],
   "source": [
    "error_matrix[1,1] = test_mse"
   ]
  },
  {
   "cell_type": "markdown",
   "id": "52a361a2",
   "metadata": {},
   "source": [
    "#### s^2 for Test MSE"
   ]
  },
  {
   "cell_type": "code",
   "execution_count": 132,
   "id": "c6d50d28",
   "metadata": {},
   "outputs": [],
   "source": [
    "s_square = 0 \n",
    "for i in range(len(x_test_values)):\n",
    "    s_square = s_square + (test_mse - (y_test_values[i] - (x_values[i]**3 * w3 + x_values[i]**2 * w2 + x_values[i] * w1 + w0)**2)**2)   \n",
    "s_square = s_square / (len(x_test_values)-1)"
   ]
  },
  {
   "cell_type": "markdown",
   "id": "4440857c",
   "metadata": {},
   "source": [
    "For the second linear regression function, we have s^2 for Test MSE:"
   ]
  },
  {
   "cell_type": "code",
   "execution_count": 140,
   "id": "7f5bdb18",
   "metadata": {
    "scrolled": true
   },
   "outputs": [
    {
     "data": {
      "text/plain": [
       "-1724.6315789473683"
      ]
     },
     "execution_count": 140,
     "metadata": {},
     "output_type": "execute_result"
    }
   ],
   "source": [
    "s_square"
   ]
  },
  {
   "cell_type": "code",
   "execution_count": 141,
   "id": "4983325d",
   "metadata": {},
   "outputs": [],
   "source": [
    "error_matrix[1,2] = s_square"
   ]
  },
  {
   "cell_type": "markdown",
   "id": "d2b72484",
   "metadata": {},
   "source": [
    "## Question 2 (Neural Networks)"
   ]
  },
  {
   "cell_type": "markdown",
   "id": "d2fbcc70",
   "metadata": {},
   "source": [
    "First, we need to initialize input and output units."
   ]
  },
  {
   "cell_type": "code",
   "execution_count": 292,
   "id": "5ab581c3",
   "metadata": {},
   "outputs": [],
   "source": [
    "#Initialize x and y\n",
    "\n",
    "x = np.zeros((100,2))\n",
    "x[:,0] = 1\n",
    "tra = tra_df.to_numpy()\n",
    "x[:,1] = tra[:,0]\n",
    "\n",
    "y = np.zeros((100,1))\n",
    "y[:,0] = tra[:,1]"
   ]
  },
  {
   "cell_type": "markdown",
   "id": "0928ba75",
   "metadata": {},
   "source": [
    "For the first part of the question indexes are like this:"
   ]
  },
  {
   "cell_type": "code",
   "execution_count": 293,
   "id": "27162f8a",
   "metadata": {},
   "outputs": [],
   "source": [
    "# Initialize indexes and parameters\n",
    "\n",
    "K = 2\n",
    "J = 4\n",
    "I = 1\n",
    "P = 100\n",
    "alpha0 = 0.5\n",
    "eta = 0.9\n",
    "eps = 0.001"
   ]
  },
  {
   "cell_type": "markdown",
   "id": "cf332d6d",
   "metadata": {},
   "source": [
    "To have a looking good function, I wrote some functions:"
   ]
  },
  {
   "cell_type": "code",
   "execution_count": 294,
   "id": "0113e85c",
   "metadata": {},
   "outputs": [],
   "source": [
    "# threshold units and derivatives\n",
    "\n",
    "def omega(o):\n",
    "    return o\n",
    "\n",
    "def chi(h):\n",
    "    e = 2.71828\n",
    "    return (1 / (1 + e**(-h)))\n",
    "\n",
    "def omega_prime(o):\n",
    "    return 1\n",
    "\n",
    "def chi_prime(h):\n",
    "    return(chi(h) * ( 1 - chi(h)))"
   ]
  },
  {
   "cell_type": "markdown",
   "id": "66dc2cfd",
   "metadata": {},
   "source": [
    "#### Backpropagation"
   ]
  },
  {
   "cell_type": "code",
   "execution_count": 295,
   "id": "915c85c4",
   "metadata": {},
   "outputs": [],
   "source": [
    "def backpropagation(x,y,I,J,K,P,alpha0,eta,eps):\n",
    "    # Initialize list and matrixes\n",
    "    w = np.random.rand(J,K)\n",
    "    W = np.random.rand(I,J)\n",
    "    h = np.zeros((J,P))\n",
    "    H = np.zeros((J,P))\n",
    "    H[0,:] = -1 #\\* H0p = −1 *\\\n",
    "    o = np.zeros((I,P))\n",
    "    O = np.zeros((I,P))\n",
    "    delta_o = np.zeros((I,P))\n",
    "    delta_H = np.zeros((J,P))\n",
    "    delta_W = np.zeros((I,J,P))\n",
    "    delta_w = np.zeros((J,K,P))\n",
    "    temp = 0\n",
    "    t = 0\n",
    "    alpha = []\n",
    "    alpha.append(alpha0)\n",
    "    \n",
    "    while(True):\n",
    "        for p in range(P):\n",
    "            \n",
    "            # \\* from input to hidden *\\\n",
    "            for j in range(1,J):\n",
    "                temp = 0\n",
    "                for k in range(K):\n",
    "                    temp = temp + w[j,k]*x[p,k]\n",
    "                h[j,p] = temp    \n",
    "                H[j,p] = chi(h[j,p])\n",
    "            \n",
    "            # \\* from hidden to output *\\\n",
    "            for i in range(1,I+1):\n",
    "                temp = 0\n",
    "                for j in range(J):\n",
    "                    temp = temp + W[i-1,j]*H[j,p]\n",
    "                o[i-1,p] = temp\n",
    "                O[i-1,p] = omega(o[i-1,p])\n",
    "                \n",
    "            #\\* from output to hidden *\\\n",
    "            for i in range(1,I+1):\n",
    "                delta_o[i-1,p] = (y[p,i-1] - O[i-1,p]) * omega_prime(o[i-1,p])\n",
    "            \n",
    "            # \\* from hidden to input *\\\n",
    "            for j in range(1,J):\n",
    "                delta_H[j,p] = chi_prime(h[j,p]) * W[0,j] * delta_o[0,p]\n",
    "            \n",
    "            # \\* from output to hidden *\\\n",
    "            for i in range(1,I+1):\n",
    "                for j in range(J):\n",
    "                    delta_W[i-1,j,p] = alpha[t] * delta_o[i-1,p] * H[j,p]\n",
    "                    W[i-1,j] = W[i-1,j] + delta_W[i-1,j,p]\n",
    "                    \n",
    "            # \\* from hidden to input *\\\n",
    "            for j in range(1,J):\n",
    "                for k in range(K):\n",
    "                    delta_w[j,k,p] = alpha[t] * delta_H[j,p] * x[p,k]\n",
    "                    w[j,k] = w[j,k] + delta_w[j,k,p]\n",
    "        \n",
    "        alpha.append(eta * alpha[t])\n",
    "        t = t + 1\n",
    "        if(alpha[t] < eps):\n",
    "            break\n",
    "            \n",
    "    return w,W,O"
   ]
  },
  {
   "cell_type": "markdown",
   "id": "e019f8c2",
   "metadata": {},
   "source": [
    "After getting the model, in order to use that weights on test data, we need to write down another function"
   ]
  },
  {
   "cell_type": "code",
   "execution_count": 296,
   "id": "49cfdd4d",
   "metadata": {},
   "outputs": [],
   "source": [
    "def input_to_output(w,W,I,J,K,P_test,x_test):\n",
    "    h = np.zeros((J,P_test))\n",
    "    H = np.zeros((J,P_test))\n",
    "    H[0,:] = -1 #\\* H0p = −1 *\\\n",
    "    o = np.zeros((I,P_test))\n",
    "    O = np.zeros((I,P_test))\n",
    "    \n",
    "    for p in range(P_test):\n",
    "        # \\* from input to hidden *\\\n",
    "        for j in range(1,J):\n",
    "            temp = 0\n",
    "            for k in range(K):\n",
    "                temp = temp + w[j,k]*x_test[p,k]\n",
    "            h[j,p] = temp\n",
    "            H[j,p] = chi(h[j,p])\n",
    "            \n",
    "        # \\* from hidden to output *\\\n",
    "        for i in range(1,I+1):\n",
    "            temp = 0\n",
    "            for j in range(J):\n",
    "                temp = temp + W[i-1,j]*H[j,p]\n",
    "            o[i-1,p] = temp\n",
    "            O[i-1,p] = omega(o[i-1,p])\n",
    "    return O"
   ]
  },
  {
   "cell_type": "markdown",
   "id": "adcc8110",
   "metadata": {},
   "source": [
    "Now, we need to decide how many hidden units we should have"
   ]
  },
  {
   "cell_type": "code",
   "execution_count": 297,
   "id": "114deeb5",
   "metadata": {},
   "outputs": [],
   "source": [
    "def error_function(e_square,O,y_test,P_test):\n",
    "    for p in range(P_test):\n",
    "        e_square[p] = (y[p] - O[0,p])**2\n",
    "            \n",
    "    return e_square"
   ]
  },
  {
   "cell_type": "code",
   "execution_count": 298,
   "id": "3ab8c4a0",
   "metadata": {},
   "outputs": [],
   "source": [
    "def average_test_error(e_square, P_test):\n",
    "    summ = 0\n",
    "    MSE_test = 0\n",
    "    for i in range(P_test):\n",
    "        summ = summ + e_square[i]\n",
    "    MSE_test = summ/P_test\n",
    "    return MSE_test"
   ]
  },
  {
   "cell_type": "code",
   "execution_count": 299,
   "id": "c8f6f9ea",
   "metadata": {},
   "outputs": [],
   "source": [
    "def s_squaree(MSE_test,e_square,P_test):\n",
    "    summ = 0\n",
    "    s_square = 0\n",
    "    for i in range(P_test):\n",
    "        summ = summ + (MSE_test - e_square[i])**2\n",
    "    s_square = summ / (P_test - 1)\n",
    "    return s_square"
   ]
  },
  {
   "cell_type": "code",
   "execution_count": 300,
   "id": "c21c0c1a",
   "metadata": {},
   "outputs": [],
   "source": [
    "def hidden_unit(x,y,x_test,y_test,I,J,K,P,alpha0,eta,eps):\n",
    "    q = 1\n",
    "    J = np.zeros(100)\n",
    "    J[q] = 4\n",
    "    MSE_test = np.zeros(100)\n",
    "    MSE_test[0] = 1000000000000000000000000\n",
    "    s_square_test = np.zeros(100)\n",
    "    s_square_test[0] = 100000000000000\n",
    "    \n",
    "    while(True):\n",
    "        temp_J = int(J[q])\n",
    "        print(temp_J)\n",
    "        output = backpropagation(x,y,I,temp_J,K,P,alpha0,eta,eps)\n",
    "        w = output[0]\n",
    "        W = output[1]\n",
    "        O = input_to_output(w,W,I,temp_J,K,P_test,x_test)\n",
    "        error = np.zeros(20)\n",
    "        e_square = error_function(error,O,y_test,P_test)\n",
    "        MSE_test[q] = average_test_error(e_square,P_test)\n",
    "        s_square_test[q] = s_squaree(MSE_test[q],e_square,P_test)\n",
    "        J[q+1] = J[q] + 1\n",
    "        \n",
    "        print(\"MSE_test[q]   =\",MSE_test[q])\n",
    "        print(\"MSE_test[q-1] =\", MSE_test[q-1])\n",
    "        \n",
    "        if (MSE_test[q] > MSE_test[q-1]):\n",
    "            break\n",
    "        q = q + 1\n",
    "    return J[q]\n",
    "        "
   ]
  },
  {
   "cell_type": "code",
   "execution_count": 301,
   "id": "9fa1c6f5",
   "metadata": {},
   "outputs": [],
   "source": [
    "P_test = len(test)\n",
    "J = np.zeros(100)\n",
    "J[1] = 4\n",
    "J_temp = J[1]\n",
    "J_temp = int(J_temp)"
   ]
  },
  {
   "cell_type": "code",
   "execution_count": 302,
   "id": "b285f7d4",
   "metadata": {},
   "outputs": [],
   "source": [
    "#Initialize x_test and y_test\n",
    "\n",
    "x_test = np.zeros((20,2))\n",
    "x_test[:,0] = 1\n",
    "x_test[:,1] = test[:,0]\n",
    "y_test = np.zeros((20,1))\n",
    "y_test[:,0] = test[:,1]"
   ]
  },
  {
   "cell_type": "code",
   "execution_count": 303,
   "id": "754b97b3",
   "metadata": {},
   "outputs": [
    {
     "name": "stdout",
     "output_type": "stream",
     "text": [
      "4\n",
      "MSE_test[q]   = 72075.36151145402\n",
      "MSE_test[q-1] = 1e+24\n",
      "5\n",
      "MSE_test[q]   = 72075.36151143804\n",
      "MSE_test[q-1] = 72075.36151145402\n",
      "6\n",
      "MSE_test[q]   = 78742.55304923447\n",
      "MSE_test[q-1] = 72075.36151143804\n"
     ]
    }
   ],
   "source": [
    "number_hidden_unit = hidden_unit(x,y,x_test,y_test,I,J,K,P,alpha0,eta,eps)"
   ]
  },
  {
   "cell_type": "code",
   "execution_count": 304,
   "id": "c1ae98c8",
   "metadata": {},
   "outputs": [
    {
     "data": {
      "text/plain": [
       "6.0"
      ]
     },
     "execution_count": 304,
     "metadata": {},
     "output_type": "execute_result"
    }
   ],
   "source": [
    "number_hidden_unit"
   ]
  },
  {
   "cell_type": "markdown",
   "id": "3b12b6cf",
   "metadata": {},
   "source": [
    "So our final number of hidden units are 5 (included artificial node)\n",
    "\n",
    "To calculate the errors we need to fix the indexes"
   ]
  },
  {
   "cell_type": "code",
   "execution_count": 305,
   "id": "952f6dfc",
   "metadata": {},
   "outputs": [],
   "source": [
    "# To indexes and parameters\n",
    "\n",
    "K = 2\n",
    "J = 5\n",
    "I = 1\n",
    "P = 100\n",
    "alpha0 = 0.5\n",
    "eta = 0.9\n",
    "eps = 0.001\n"
   ]
  },
  {
   "cell_type": "code",
   "execution_count": 306,
   "id": "38d826b2",
   "metadata": {},
   "outputs": [
    {
     "name": "stderr",
     "output_type": "stream",
     "text": [
      "<ipython-input-294-57284098ac8f>:8: RuntimeWarning: overflow encountered in double_scalars\n",
      "  return (1 / (1 + e**(-h)))\n"
     ]
    }
   ],
   "source": [
    "output = backpropagation(x,y,I,J,K,P,alpha0,eta,eps)"
   ]
  },
  {
   "cell_type": "code",
   "execution_count": 307,
   "id": "a48dd6d7",
   "metadata": {},
   "outputs": [],
   "source": [
    "w = output[0]\n",
    "W = output[1]\n",
    "train_O = output[2]"
   ]
  },
  {
   "cell_type": "code",
   "execution_count": 308,
   "id": "27bf7668",
   "metadata": {
    "scrolled": true
   },
   "outputs": [
    {
     "name": "stderr",
     "output_type": "stream",
     "text": [
      "<ipython-input-294-57284098ac8f>:8: RuntimeWarning: overflow encountered in double_scalars\n",
      "  return (1 / (1 + e**(-h)))\n"
     ]
    }
   ],
   "source": [
    "test_O = input_to_output(w,W,I,J,K,P_test,x_test)"
   ]
  },
  {
   "cell_type": "markdown",
   "id": "9c821b83",
   "metadata": {},
   "source": [
    "So now, we have observed values for both train and test data."
   ]
  },
  {
   "cell_type": "markdown",
   "id": "ea1a2000",
   "metadata": {},
   "source": [
    "### Reporting the Error Values for 2a\n",
    "\n",
    "#### Training SSE"
   ]
  },
  {
   "cell_type": "code",
   "execution_count": 309,
   "id": "c0676d8a",
   "metadata": {},
   "outputs": [],
   "source": [
    "sse = 0\n",
    "for i in range(len(x_values)):\n",
    "    sse = sse + (y_values[i] - train_O[0,i])**2"
   ]
  },
  {
   "cell_type": "markdown",
   "id": "2030d592",
   "metadata": {},
   "source": [
    "For the first neural network, we have training SSE:"
   ]
  },
  {
   "cell_type": "code",
   "execution_count": 310,
   "id": "5db4e0bc",
   "metadata": {},
   "outputs": [
    {
     "data": {
      "text/plain": [
       "8001156.336858939"
      ]
     },
     "execution_count": 310,
     "metadata": {},
     "output_type": "execute_result"
    }
   ],
   "source": [
    "sse"
   ]
  },
  {
   "cell_type": "code",
   "execution_count": 311,
   "id": "6ad84fbf",
   "metadata": {},
   "outputs": [],
   "source": [
    "error_matrix[2,0] = sse"
   ]
  },
  {
   "cell_type": "markdown",
   "id": "79952b9f",
   "metadata": {},
   "source": [
    "#### Test MSE"
   ]
  },
  {
   "cell_type": "code",
   "execution_count": 312,
   "id": "45c20a0a",
   "metadata": {},
   "outputs": [],
   "source": [
    "test_mse = 0\n",
    "for i in range(len(x_test_values)):\n",
    "    test_mse = test_mse + (y_test_values[i] - test_O[0,i])**2\n",
    "    \n",
    "test_mse = test_mse / len(x_test_values)"
   ]
  },
  {
   "cell_type": "markdown",
   "id": "b14b7dd2",
   "metadata": {},
   "source": [
    "For the first neural network, we have Test MSE:"
   ]
  },
  {
   "cell_type": "code",
   "execution_count": 313,
   "id": "92df97a7",
   "metadata": {},
   "outputs": [
    {
     "data": {
      "text/plain": [
       "98190.86021712724"
      ]
     },
     "execution_count": 313,
     "metadata": {},
     "output_type": "execute_result"
    }
   ],
   "source": [
    "test_mse"
   ]
  },
  {
   "cell_type": "code",
   "execution_count": 314,
   "id": "d187289c",
   "metadata": {},
   "outputs": [],
   "source": [
    "error_matrix[2,1] = test_mse"
   ]
  },
  {
   "cell_type": "markdown",
   "id": "6c29c62a",
   "metadata": {},
   "source": [
    "#### s^2 for Test MSE\n"
   ]
  },
  {
   "cell_type": "code",
   "execution_count": 315,
   "id": "2f27d1af",
   "metadata": {},
   "outputs": [],
   "source": [
    "s_square = 0 \n",
    "for i in range(len(x_test_values)):\n",
    "    s_square = s_square + (test_mse - (y_test_values[i] - test_O[0,i])**2)   \n",
    "s_square = s_square / (len(x_test_values)-1)"
   ]
  },
  {
   "cell_type": "markdown",
   "id": "773f7885",
   "metadata": {},
   "source": [
    "For the first neural network, we have s^2 for Test MSE:"
   ]
  },
  {
   "cell_type": "code",
   "execution_count": 316,
   "id": "b25f65e2",
   "metadata": {},
   "outputs": [
    {
     "data": {
      "text/plain": [
       "4.595341651063216e-12"
      ]
     },
     "execution_count": 316,
     "metadata": {},
     "output_type": "execute_result"
    }
   ],
   "source": [
    "s_square"
   ]
  },
  {
   "cell_type": "code",
   "execution_count": 317,
   "id": "3963e2aa",
   "metadata": {},
   "outputs": [],
   "source": [
    "error_matrix[2,2] = s_square"
   ]
  },
  {
   "cell_type": "markdown",
   "id": "87f627a2",
   "metadata": {},
   "source": [
    "### Question 2.b"
   ]
  },
  {
   "cell_type": "markdown",
   "id": "e7cb824e",
   "metadata": {},
   "source": [
    "First, we need to initialize input and output units."
   ]
  },
  {
   "cell_type": "code",
   "execution_count": 318,
   "id": "ff4cc2c3",
   "metadata": {},
   "outputs": [],
   "source": [
    "#Initialize x and y\n",
    "\n",
    "x = np.zeros((100,4))\n",
    "x[:,0] = 1\n",
    "tra = tra_df.to_numpy()\n",
    "x[:,1] = tra[:,0]\n",
    "x[:,2] = tra[:,0]**2\n",
    "x[:,3] = tra[:,0]**3\n",
    "\n",
    "y = np.zeros((100,1))\n",
    "y[:,0] = tra[:,1]"
   ]
  },
  {
   "cell_type": "code",
   "execution_count": 319,
   "id": "5552c6bd",
   "metadata": {},
   "outputs": [],
   "source": [
    "#Initialize x_test and y_test\n",
    "\n",
    "x_test = np.zeros((20,4))\n",
    "x_test[:,0] = 1\n",
    "x_test[:,1] = test[:,0]\n",
    "x_test[:,2] = test[:,0]**2\n",
    "x_test[:,3] = test[:,0]**3\n",
    "y_test = np.zeros((20,1))\n",
    "y_test[:,0] = test[:,1]"
   ]
  },
  {
   "cell_type": "markdown",
   "id": "336721da",
   "metadata": {},
   "source": [
    "For the second part of the question indexes are like this:"
   ]
  },
  {
   "cell_type": "code",
   "execution_count": 320,
   "id": "2cc1f154",
   "metadata": {},
   "outputs": [],
   "source": [
    "# Initialize indexes and parameters\n",
    "\n",
    "K = 4\n",
    "J = 4\n",
    "I = 1\n",
    "P = 100\n",
    "alpha0 = 0.5\n",
    "eta = 0.9\n",
    "eps = 0.001"
   ]
  },
  {
   "cell_type": "code",
   "execution_count": 321,
   "id": "839b10a5",
   "metadata": {
    "scrolled": false
   },
   "outputs": [
    {
     "name": "stdout",
     "output_type": "stream",
     "text": [
      "4\n",
      "MSE_test[q]   = 72075.36151145394\n",
      "MSE_test[q-1] = 1e+24\n",
      "5\n",
      "MSE_test[q]   = 75379.04192452902\n",
      "MSE_test[q-1] = 72075.36151145394\n"
     ]
    }
   ],
   "source": [
    "number_hidden_unit = hidden_unit(x,y,x_test,y_test,I,J,K,P,alpha0,eta,eps)"
   ]
  },
  {
   "cell_type": "code",
   "execution_count": 322,
   "id": "f1630843",
   "metadata": {},
   "outputs": [
    {
     "data": {
      "text/plain": [
       "5.0"
      ]
     },
     "execution_count": 322,
     "metadata": {},
     "output_type": "execute_result"
    }
   ],
   "source": [
    "number_hidden_unit"
   ]
  },
  {
   "cell_type": "markdown",
   "id": "d49faf32",
   "metadata": {},
   "source": [
    "So our final number of hidden units are 5 (included artificial node)\n",
    "\n",
    "To calculate the errors we need to fix the indexes"
   ]
  },
  {
   "cell_type": "code",
   "execution_count": 323,
   "id": "2ef6a0d5",
   "metadata": {},
   "outputs": [],
   "source": [
    "# To indexes and parameters\n",
    "\n",
    "K = 4\n",
    "J = 5\n",
    "I = 1\n",
    "P = 100\n",
    "alpha0 = 0.5\n",
    "eta = 0.9\n",
    "eps = 0.001\n"
   ]
  },
  {
   "cell_type": "code",
   "execution_count": 324,
   "id": "de2e20c4",
   "metadata": {},
   "outputs": [],
   "source": [
    "output = backpropagation(x,y,I,J,K,P,alpha0,eta,eps)"
   ]
  },
  {
   "cell_type": "code",
   "execution_count": 325,
   "id": "365c0fdc",
   "metadata": {},
   "outputs": [],
   "source": [
    "w = output[0]\n",
    "W = output[1]\n",
    "train_O = output[2]"
   ]
  },
  {
   "cell_type": "code",
   "execution_count": 326,
   "id": "710fc017",
   "metadata": {},
   "outputs": [],
   "source": [
    "test_O = input_to_output(w,W,I,J,K,P_test,x_test)"
   ]
  },
  {
   "cell_type": "markdown",
   "id": "33de106b",
   "metadata": {},
   "source": [
    "So now, we have observed values for both train and test data."
   ]
  },
  {
   "cell_type": "markdown",
   "id": "6e0f549e",
   "metadata": {},
   "source": [
    "### Reporting the Error Values for 2.b\n",
    "\n",
    "#### Training SSE"
   ]
  },
  {
   "cell_type": "code",
   "execution_count": 327,
   "id": "3ad51678",
   "metadata": {},
   "outputs": [],
   "source": [
    "sse = 0\n",
    "for i in range(len(x_values)):\n",
    "    sse = sse + (y_values[i] - train_O[0,i])**2"
   ]
  },
  {
   "cell_type": "markdown",
   "id": "7ebf7a35",
   "metadata": {},
   "source": [
    "For the second neural network, we have Test MSE:"
   ]
  },
  {
   "cell_type": "code",
   "execution_count": 328,
   "id": "4d38eacf",
   "metadata": {},
   "outputs": [
    {
     "data": {
      "text/plain": [
       "8006099.554465751"
      ]
     },
     "execution_count": 328,
     "metadata": {},
     "output_type": "execute_result"
    }
   ],
   "source": [
    "sse"
   ]
  },
  {
   "cell_type": "code",
   "execution_count": 329,
   "id": "c022c557",
   "metadata": {},
   "outputs": [],
   "source": [
    "error_matrix[3,0] = sse"
   ]
  },
  {
   "cell_type": "markdown",
   "id": "640730ab",
   "metadata": {},
   "source": [
    "#### Test MSE"
   ]
  },
  {
   "cell_type": "code",
   "execution_count": 330,
   "id": "7eb81ece",
   "metadata": {},
   "outputs": [],
   "source": [
    "test_mse = 0\n",
    "for i in range(len(x_test_values)):\n",
    "    test_mse = test_mse + (y_test_values[i] - test_O[0,i])**2\n",
    "    \n",
    "test_mse = test_mse / len(x_test_values)"
   ]
  },
  {
   "cell_type": "markdown",
   "id": "73c4599b",
   "metadata": {},
   "source": [
    "For the second neural network, we have Test MSE:"
   ]
  },
  {
   "cell_type": "code",
   "execution_count": 331,
   "id": "1dee985b",
   "metadata": {},
   "outputs": [
    {
     "data": {
      "text/plain": [
       "98145.9425324774"
      ]
     },
     "execution_count": 331,
     "metadata": {},
     "output_type": "execute_result"
    }
   ],
   "source": [
    "test_mse"
   ]
  },
  {
   "cell_type": "code",
   "execution_count": 332,
   "id": "dab5f8cf",
   "metadata": {},
   "outputs": [],
   "source": [
    "error_matrix[3,1] = test_mse"
   ]
  },
  {
   "cell_type": "markdown",
   "id": "6b40adcc",
   "metadata": {},
   "source": [
    "#### s^2 for Test MSE"
   ]
  },
  {
   "cell_type": "code",
   "execution_count": 333,
   "id": "536f013c",
   "metadata": {},
   "outputs": [],
   "source": [
    "s_square = 0 \n",
    "for i in range(len(x_test_values)):\n",
    "    s_square = s_square + (test_mse - (y_test_values[i] - test_O[0,i])**2)   \n",
    "s_square = s_square / (len(x_test_values)-1)"
   ]
  },
  {
   "cell_type": "markdown",
   "id": "1f358ca7",
   "metadata": {},
   "source": [
    "For the second neural network, we have s^2 for Test MSE:"
   ]
  },
  {
   "cell_type": "code",
   "execution_count": 334,
   "id": "fc693e88",
   "metadata": {},
   "outputs": [
    {
     "data": {
      "text/plain": [
       "-2.527437908084769e-11"
      ]
     },
     "execution_count": 334,
     "metadata": {},
     "output_type": "execute_result"
    }
   ],
   "source": [
    "s_square"
   ]
  },
  {
   "cell_type": "code",
   "execution_count": 335,
   "id": "25c8c91b",
   "metadata": {},
   "outputs": [],
   "source": [
    "error_matrix[3,2] = s_square"
   ]
  },
  {
   "cell_type": "code",
   "execution_count": 336,
   "id": "ead7df4e",
   "metadata": {
    "scrolled": false
   },
   "outputs": [
    {
     "data": {
      "text/plain": [
       "array([[ 3.83581159e+06,  1.95046754e+06,  8.56496617e+12],\n",
       "       [ 5.57230986e+13,  1.00672370e+19, -1.72463158e+03],\n",
       "       [ 8.00115634e+06,  9.81908602e+04,  4.59534165e-12],\n",
       "       [ 8.00609955e+06,  9.81459425e+04, -2.52743791e-11]])"
      ]
     },
     "execution_count": 336,
     "metadata": {},
     "output_type": "execute_result"
    }
   ],
   "source": [
    "error_matrix"
   ]
  },
  {
   "cell_type": "code",
   "execution_count": 342,
   "id": "5975a96d",
   "metadata": {},
   "outputs": [],
   "source": [
    "error_df = pd.DataFrame(error_matrix,\n",
    "             index = ['1.(a)','1.(b)','2.(a)','2.(b)'],\n",
    "             columns=['Training SSE', \n",
    "                      'Test MSE',\n",
    "                     's^2 for Test MSE'])"
   ]
  },
  {
   "cell_type": "markdown",
   "id": "7e9c28e6",
   "metadata": {},
   "source": [
    "### All Errors"
   ]
  },
  {
   "cell_type": "code",
   "execution_count": 343,
   "id": "e44f8d08",
   "metadata": {
    "scrolled": true
   },
   "outputs": [
    {
     "data": {
      "text/html": [
       "<div>\n",
       "<style scoped>\n",
       "    .dataframe tbody tr th:only-of-type {\n",
       "        vertical-align: middle;\n",
       "    }\n",
       "\n",
       "    .dataframe tbody tr th {\n",
       "        vertical-align: top;\n",
       "    }\n",
       "\n",
       "    .dataframe thead th {\n",
       "        text-align: right;\n",
       "    }\n",
       "</style>\n",
       "<table border=\"1\" class=\"dataframe\">\n",
       "  <thead>\n",
       "    <tr style=\"text-align: right;\">\n",
       "      <th></th>\n",
       "      <th>Training SSE</th>\n",
       "      <th>Test MSE</th>\n",
       "      <th>s^2 for Test MSE</th>\n",
       "    </tr>\n",
       "  </thead>\n",
       "  <tbody>\n",
       "    <tr>\n",
       "      <th>1.(a)</th>\n",
       "      <td>3.835812e+06</td>\n",
       "      <td>1.950468e+06</td>\n",
       "      <td>8.564966e+12</td>\n",
       "    </tr>\n",
       "    <tr>\n",
       "      <th>1.(b)</th>\n",
       "      <td>5.572310e+13</td>\n",
       "      <td>1.006724e+19</td>\n",
       "      <td>-1.724632e+03</td>\n",
       "    </tr>\n",
       "    <tr>\n",
       "      <th>2.(a)</th>\n",
       "      <td>8.001156e+06</td>\n",
       "      <td>9.819086e+04</td>\n",
       "      <td>4.595342e-12</td>\n",
       "    </tr>\n",
       "    <tr>\n",
       "      <th>2.(b)</th>\n",
       "      <td>8.006100e+06</td>\n",
       "      <td>9.814594e+04</td>\n",
       "      <td>-2.527438e-11</td>\n",
       "    </tr>\n",
       "  </tbody>\n",
       "</table>\n",
       "</div>"
      ],
      "text/plain": [
       "       Training SSE      Test MSE  s^2 for Test MSE\n",
       "1.(a)  3.835812e+06  1.950468e+06      8.564966e+12\n",
       "1.(b)  5.572310e+13  1.006724e+19     -1.724632e+03\n",
       "2.(a)  8.001156e+06  9.819086e+04      4.595342e-12\n",
       "2.(b)  8.006100e+06  9.814594e+04     -2.527438e-11"
      ]
     },
     "execution_count": 343,
     "metadata": {},
     "output_type": "execute_result"
    }
   ],
   "source": [
    "error_df"
   ]
  },
  {
   "cell_type": "markdown",
   "id": "6944d38f",
   "metadata": {},
   "source": [
    "- We can clearly see that Neural Network work better for both function in the test set."
   ]
  }
 ],
 "metadata": {
  "kernelspec": {
   "display_name": "Python 3",
   "language": "python",
   "name": "python3"
  },
  "language_info": {
   "codemirror_mode": {
    "name": "ipython",
    "version": 3
   },
   "file_extension": ".py",
   "mimetype": "text/x-python",
   "name": "python",
   "nbconvert_exporter": "python",
   "pygments_lexer": "ipython3",
   "version": "3.8.8"
  }
 },
 "nbformat": 4,
 "nbformat_minor": 5
}
